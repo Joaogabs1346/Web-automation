{
 "cells": [
  {
   "cell_type": "code",
   "execution_count": 1,
   "id": "7964b390",
   "metadata": {},
   "outputs": [],
   "source": [
    "import pandas as pd\n",
    "from selenium import webdriver\n",
    "import openpyxl\n",
    "from selenium.webdriver.common.by import By\n",
    "import time\n",
    "def text(texto):\n",
    "    return float(texto.replace('.','').replace('R$','').replace(',','.'))"
   ]
  },
  {
   "cell_type": "code",
   "execution_count": 2,
   "id": "5c967022",
   "metadata": {},
   "outputs": [
    {
     "name": "stdout",
     "output_type": "stream",
     "text": [
      "End.\n"
     ]
    }
   ],
   "source": [
    "products = pd.read_excel(r\"C:\\Users\\Pichau\\Desktop\\Produtos.xlsx\")\n",
    "products = products.fillna('-')\n",
    "driver = webdriver.Chrome()\n",
    "driver.set_window_position(-10000,0)\n",
    "send_email = False\n",
    "for i,row in products.iterrows():\n",
    "    #Amazon Prices\n",
    "        driver.get(row['Amazon'])\n",
    "        try:\n",
    "            price_amazon = driver.find_element(by=By.XPATH,value='//*[@id=\"corePriceDisplay_desktop_feature_div\"]/div[1]/span/span[2]/span[2]').text\n",
    "         \n",
    "        except:\n",
    "            print('{} not found in Amazon').format(linha['Product Name'])\n",
    "            price_amazon = linha['Preco Original'] *2\n",
    "        price_amazon = text(price_amazon)  \n",
    "\n",
    "    \n",
    "        #Shopee Prices\n",
    "        driver.get(row['Shopee'])\n",
    "        time.sleep(2)\n",
    "        try:\n",
    "            time.sleep(2)\n",
    "            price_shopee =  driver.find_element(by=By.XPATH,value='/html/body/div[1]/div/div[2]/div[1]/div/div[2]/div/div[2]/div[3]/div/div[3]/div/div/div/div/div/div').text\n",
    "        except:\n",
    "            try:\n",
    "                price_shopee = driver.find_element(by=By.XPATH,value='/html/body/div[1]/div/div[2]/div[1]/div/div[2]/div/div[2]/div[3]/div/div[3]/div/div/div/div/div/div').text\n",
    "            except:\n",
    "                print('{} not found in Shopee').format(linha['Product Name'])\n",
    "                price_shopee = linha['Preco Original'] *2   \n",
    "        price_shopee = text(price_shopee)           \n",
    "\n",
    "        #Magazine Luiza Prices\n",
    "        driver.get(row['Magazine Luiza'])\n",
    "        try:\n",
    "            price_Magazine_Luiza =  driver.find_element(by=By.XPATH,value='/html/body/div[3]/div[5]/div[1]/div[3]/div[2]/div[5]/div/div[2]/div/span[2]').text\n",
    "        except:\n",
    "               price_Magazine_Luiza = driver.find_element(by=By.XPATH,value='/html/body/div[3]/div[5]/div[1]/div[3]/div[2]/div[4]/div/div/div/span[2]').text\n",
    "            \n",
    "        price_Magazine_Luiza = text(price_Magazine_Luiza)\n",
    "    \n",
    "    \n",
    "        original_price =  row['Original_price']\n",
    "        list_price = [(price_amazon,'Amazon'),(price_shopee,'Loja Shopee'),(price_Magazine_Luiza,'Magazine Luiza'),(original_price,'Original')]\n",
    "        list_price.sort()\n",
    "        products.loc[i,'Current price'] = list_price[0][0]\n",
    "        products.loc[i,'Local'] = list_price[0][1]\n",
    "        if list_price[0][0] < original_price * 0.70:\n",
    "            send_email = True\n",
    "\n",
    "#Send email\n",
    "import win32com.client as win32\n",
    "outlook = win32.Dispatch('outlook.application')\n",
    "discount = 0.3\n",
    "if send_email:\n",
    "    mail = outlook.CreateItem(0)\n",
    "    mail.To='email'\n",
    "    mail.Subject=f'Product(s) Found with more than {discount:.0%} Discount'\n",
    "    #Filter Products:\n",
    "    table_filtered = products.loc[products['Current price'] <= products['Original_price']*discount,:]\n",
    "    mail.HTMLBody =f'<p>These are the Products with more than {discount:.0%} Discount</p>{products.to_html()}'\n",
    "    \n",
    "    mail.Send()\n",
    "print('End.')\n",
    "driver.quit()\n"
   ]
  },
  {
   "cell_type": "code",
   "execution_count": null,
   "id": "f11b880d",
   "metadata": {},
   "outputs": [],
   "source": []
  }
 ],
 "metadata": {
  "kernelspec": {
   "display_name": "Python 3 (ipykernel)",
   "language": "python",
   "name": "python3"
  },
  "language_info": {
   "codemirror_mode": {
    "name": "ipython",
    "version": 3
   },
   "file_extension": ".py",
   "mimetype": "text/x-python",
   "name": "python",
   "nbconvert_exporter": "python",
   "pygments_lexer": "ipython3",
   "version": "3.9.7"
  }
 },
 "nbformat": 4,
 "nbformat_minor": 5
}
